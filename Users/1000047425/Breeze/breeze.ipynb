{
  "cells": [
    {
      "cell_type": "code",
      "execution_count": null,
      "metadata": {
        "gather": {
          "logged": 1717045980082
        }
      },
      "outputs": [],
      "source": [
        "from breeze_connect import BreezeConnect\n",
        "import json\n",
        "# Initialize SDK\n",
        "breeze = BreezeConnect(api_key=\"05l3(7895X4136976h@Za90m09681999\")\n",
        "\n",
        "# Generate Session\n",
        "breeze.generate_session(api_secret=\"516o05v3500859%I515F02eo#3l27876\",\n",
        "                        session_token=\"41464579\")\n"
      ]
    },
    {
      "cell_type": "code",
      "execution_count": null,
      "metadata": {
        "gather": {
          "logged": 1717046043813
        },
        "jupyter": {
          "outputs_hidden": false,
          "source_hidden": false
        },
        "nteract": {
          "transient": {
            "deleting": false
          }
        }
      },
      "outputs": [],
      "source": [
        "import json\n",
        "import pandas as pd \n",
        "import pyspark \n",
        "from pyspark.sql.functions import explode\n",
        "from pyspark.sql import SparkSession \n",
        "\n",
        "\n",
        "BankNifty =json.dumps (breeze.get_quotes(stock_code=\"CNXBAN\",\n",
        "                                          exchange_code=\"NSE\",\n",
        "                                          expiry_date=\"\",\n",
        "                                          product_type=\"cash\",\n",
        "                                          right=\"others\",\n",
        "                                          strike_price=\"0\"\n",
        "                                        )\n",
        "                       )\n",
        "\n",
        "spark = SparkSession.builder.appName('sparkdf').getOrCreate()                        \n",
        "sc = spark.sparkContext                       \n",
        "bndf = spark.read.json(sc.parallelize([BankNifty])) \n",
        "\n",
        "flat_bndf = bndf.select(\"Error\",\"Status\",explode(\"Success\").alias(\"Success\"))\n",
        "flat_bndf =  flat_bndf.select (flat_bndf.Success.ltp.alias(\"now\"),\"Success.open\",\"Success.low\",\"Success.high\",flat_bndf.Success.previous_close.alias(\"lastdayclose\")).where(flat_bndf.Success.ltp > 0)  \n",
        "flat_df.show()\n",
        "flat_bndf.show()\n"
      ]
    },
    {
      "cell_type": "code",
      "execution_count": null,
      "metadata": {
        "gather": {
          "logged": 1717046099737
        }
      },
      "outputs": [],
      "source": [
        "import json\n",
        "import pandas as pd \n",
        "import pyspark \n",
        "from pyspark.sql.functions import explode\n",
        "import plotly.graph_objects as go\n",
        "from pyspark.sql.types import StructType, StructField, StringType, LongType, MapType\n",
        "import matplotlib.pyplot as plt\n",
        "from matplotlib.pyplot import subplots, draw\n",
        "from datetime import datetime\n",
        "  \n",
        "# importing sparksession from pyspark.sql module \n",
        "from pyspark.sql import SparkSession \n",
        "spark = SparkSession.builder.appName('sparkdf').getOrCreate() \n",
        "         \n",
        "niftydata =json.dumps (breeze.get_historical_data_v2(interval=\"1day\",\n",
        "                            from_date= \"2024-04-01T09:15:00.000Z\",\n",
        "                            to_date=   \"2024-05-29T13:30:30.000Z\",\n",
        "                            stock_code=\"NIFTY\",\n",
        "                            exchange_code=\"NSE\",\n",
        "                            product_type=\"cash\")\n",
        "                       )\n",
        "sc = spark.sparkContext                       \n",
        "df = spark.read.json(sc.parallelize([niftydata])) \n",
        "flat_df = df.select(\"Error\",\"Status\",explode(\"Success\").alias(\"Success\"))\n",
        "ohlc_df = flat_df.select(\"Success.datetime\",\"Success.open\",\"Success.low\",\"Success.high\",\"Success.close\")\n",
        "ohlc_df.show()\n",
        "row_count = ohlc_df.rdd.count()\n",
        "print(f'The DataFrame has {row_count} rows.')\n"
      ]
    },
    {
      "cell_type": "code",
      "execution_count": null,
      "metadata": {
        "gather": {
          "logged": 1717046106575
        },
        "jupyter": {
          "outputs_hidden": false,
          "source_hidden": false
        },
        "nteract": {
          "transient": {
            "deleting": false
          }
        }
      },
      "outputs": [],
      "source": [
        "import pandas as pd \n",
        "pandasDF = ohlc_df.toPandas()\n",
        "fig = go.Figure(data=[go.Candlestick(x=pandasDF['datetime'],\n",
        "                open=pandasDF['open'],\n",
        "                high=pandasDF['high'],\n",
        "                low=pandasDF['low'],\n",
        "                close=pandasDF['close'])])\n",
        "\n",
        "fig.show()"
      ]
    }
  ],
  "metadata": {
    "kernel_info": {
      "name": "python38-azureml"
    },
    "kernelspec": {
      "display_name": "azureml_py38",
      "language": "python",
      "name": "python3"
    },
    "language_info": {
      "codemirror_mode": {
        "name": "ipython",
        "version": 3
      },
      "file_extension": ".py",
      "mimetype": "text/x-python",
      "name": "python",
      "nbconvert_exporter": "python",
      "pygments_lexer": "ipython3",
      "version": "3.8.5"
    },
    "microsoft": {
      "host": {
        "AzureML": {
          "notebookHasBeenCompleted": true
        }
      },
      "ms_spell_check": {
        "ms_spell_check_language": "en"
      }
    },
    "nteract": {
      "version": "nteract-front-end@1.0.0"
    }
  },
  "nbformat": 4,
  "nbformat_minor": 2
}
