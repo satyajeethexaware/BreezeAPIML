{
  "cells": [
    {
      "cell_type": "code",
      "execution_count": 1,
      "metadata": {
        "gather": {
          "logged": 1717045980082
        }
      },
      "outputs": [
        {
          "ename": "Exception",
          "evalue": "Unexpected error: Session key is expired.",
          "output_type": "error",
          "traceback": [
            "\u001b[0;31m---------------------------------------------------------------------------\u001b[0m",
            "\u001b[0;31mException\u001b[0m                                 Traceback (most recent call last)",
            "File \u001b[0;32m/anaconda/envs/azureml_py38/lib/python3.8/site-packages/breeze_connect/breeze_connect.py:772\u001b[0m, in \u001b[0;36mBreezeConnect.api_util\u001b[0;34m(self)\u001b[0m\n\u001b[1;32m    771\u001b[0m \u001b[38;5;28;01melif\u001b[39;00m json_data[\u001b[38;5;124m'\u001b[39m\u001b[38;5;124mError\u001b[39m\u001b[38;5;124m'\u001b[39m] \u001b[38;5;241m==\u001b[39m \u001b[38;5;124m'\u001b[39m\u001b[38;5;124mResource not available.\u001b[39m\u001b[38;5;124m'\u001b[39m:\n\u001b[0;32m--> 772\u001b[0m     \u001b[38;5;28;01mraise\u001b[39;00m \u001b[38;5;167;01mException\u001b[39;00m(except_message\u001b[38;5;241m.\u001b[39mSESSIONKEY_EXPIRED\u001b[38;5;241m.\u001b[39mvalue)\n\u001b[1;32m    773\u001b[0m \u001b[38;5;28;01melse\u001b[39;00m:\n",
            "\u001b[0;31mException\u001b[0m: Session key is expired.",
            "\nDuring handling of the above exception, another exception occurred:\n",
            "\u001b[0;31mException\u001b[0m                                 Traceback (most recent call last)",
            "Cell \u001b[0;32mIn[1], line 7\u001b[0m\n\u001b[1;32m      4\u001b[0m breeze \u001b[38;5;241m=\u001b[39m BreezeConnect(api_key\u001b[38;5;241m=\u001b[39m\u001b[38;5;124m\"\u001b[39m\u001b[38;5;124m05l3(7895X4136976h@Za90m09681999\u001b[39m\u001b[38;5;124m\"\u001b[39m)\n\u001b[1;32m      6\u001b[0m \u001b[38;5;66;03m# Generate Session\u001b[39;00m\n\u001b[0;32m----> 7\u001b[0m \u001b[43mbreeze\u001b[49m\u001b[38;5;241;43m.\u001b[39;49m\u001b[43mgenerate_session\u001b[49m\u001b[43m(\u001b[49m\u001b[43mapi_secret\u001b[49m\u001b[38;5;241;43m=\u001b[39;49m\u001b[38;5;124;43m\"\u001b[39;49m\u001b[38;5;124;43m516o05v3500859\u001b[39;49m\u001b[38;5;124;43m%\u001b[39;49m\u001b[38;5;124;43mI515F02eo#3l27876\u001b[39;49m\u001b[38;5;124;43m\"\u001b[39;49m\u001b[43m,\u001b[49m\n\u001b[1;32m      8\u001b[0m \u001b[43m                        \u001b[49m\u001b[43msession_token\u001b[49m\u001b[38;5;241;43m=\u001b[39;49m\u001b[38;5;124;43m\"\u001b[39;49m\u001b[38;5;124;43m41464579\u001b[39;49m\u001b[38;5;124;43m\"\u001b[39;49m\u001b[43m)\u001b[49m\n",
            "File \u001b[0;32m/anaconda/envs/azureml_py38/lib/python3.8/site-packages/breeze_connect/breeze_connect.py:818\u001b[0m, in \u001b[0;36mBreezeConnect.generate_session\u001b[0;34m(self, api_secret, session_token)\u001b[0m\n\u001b[1;32m    816\u001b[0m \u001b[38;5;28mself\u001b[39m\u001b[38;5;241m.\u001b[39msession_key \u001b[38;5;241m=\u001b[39m session_token\n\u001b[1;32m    817\u001b[0m \u001b[38;5;28mself\u001b[39m\u001b[38;5;241m.\u001b[39msecret_key \u001b[38;5;241m=\u001b[39m api_secret\n\u001b[0;32m--> 818\u001b[0m \u001b[38;5;28;43mself\u001b[39;49m\u001b[38;5;241;43m.\u001b[39;49m\u001b[43mapi_util\u001b[49m\u001b[43m(\u001b[49m\u001b[43m)\u001b[49m\n\u001b[1;32m    819\u001b[0m \u001b[38;5;28mself\u001b[39m\u001b[38;5;241m.\u001b[39mget_stock_script_list()\n\u001b[1;32m    820\u001b[0m \u001b[38;5;28mself\u001b[39m\u001b[38;5;241m.\u001b[39mapi_handler \u001b[38;5;241m=\u001b[39m ApificationBreeze(\u001b[38;5;28mself\u001b[39m)\n",
            "File \u001b[0;32m/anaconda/envs/azureml_py38/lib/python3.8/site-packages/breeze_connect/breeze_connect.py:785\u001b[0m, in \u001b[0;36mBreezeConnect.api_util\u001b[0;34m(self)\u001b[0m\n\u001b[1;32m    782\u001b[0m     \u001b[38;5;28;01mraise\u001b[39;00m \u001b[38;5;167;01mException\u001b[39;00m(\u001b[38;5;124mf\u001b[39m\u001b[38;5;124m\"\u001b[39m\u001b[38;5;124mKeyError: \u001b[39m\u001b[38;5;132;01m{\u001b[39;00me\u001b[38;5;132;01m}\u001b[39;00m\u001b[38;5;124m not found in API response\u001b[39m\u001b[38;5;124m\"\u001b[39m)\n\u001b[1;32m    783\u001b[0m \u001b[38;5;28;01mexcept\u001b[39;00m \u001b[38;5;167;01mException\u001b[39;00m \u001b[38;5;28;01mas\u001b[39;00m e:\n\u001b[1;32m    784\u001b[0m     \u001b[38;5;66;03m# Handle other exceptions\u001b[39;00m\n\u001b[0;32m--> 785\u001b[0m     \u001b[38;5;28;01mraise\u001b[39;00m \u001b[38;5;167;01mException\u001b[39;00m(\u001b[38;5;124mf\u001b[39m\u001b[38;5;124m\"\u001b[39m\u001b[38;5;124mUnexpected error: \u001b[39m\u001b[38;5;132;01m{\u001b[39;00m\u001b[38;5;28mstr\u001b[39m(e)\u001b[38;5;132;01m}\u001b[39;00m\u001b[38;5;124m\"\u001b[39m)\n",
            "\u001b[0;31mException\u001b[0m: Unexpected error: Session key is expired."
          ]
        }
      ],
      "source": [
        "from breeze_connect import BreezeConnect\n",
        "import json\n",
        "# Initialize SDK\n",
        "breeze = BreezeConnect(api_key=\"05l3(7895X4136976h@Za90m09681999\")\n",
        "\n",
        "# Generate Session\n",
        "breeze.generate_session(api_secret=\"516o05v3500859%I515F02eo#3l27876\",\n",
        "                        session_token=\"41464579\")\n"
      ]
    },
    {
      "cell_type": "code",
      "execution_count": null,
      "metadata": {
        "gather": {
          "logged": 1717046043813
        },
        "jupyter": {
          "outputs_hidden": false,
          "source_hidden": false
        },
        "nteract": {
          "transient": {
            "deleting": false
          }
        }
      },
      "outputs": [],
      "source": [
        "import json\n",
        "import pandas as pd \n",
        "import pyspark \n",
        "from pyspark.sql.functions import explode\n",
        "from pyspark.sql import SparkSession \n",
        "\n",
        "\n",
        "BankNifty =json.dumps (breeze.get_quotes(stock_code=\"CNXBAN\",\n",
        "                                          exchange_code=\"NSE\",\n",
        "                                          expiry_date=\"\",\n",
        "                                          product_type=\"cash\",\n",
        "                                          right=\"others\",\n",
        "                                          strike_price=\"0\"\n",
        "                                        )\n",
        "                       )\n",
        "\n",
        "spark = SparkSession.builder.appName('sparkdf').getOrCreate()                        \n",
        "sc = spark.sparkContext                       \n",
        "bndf = spark.read.json(sc.parallelize([BankNifty])) \n",
        "\n",
        "flat_bndf = bndf.select(\"Error\",\"Status\",explode(\"Success\").alias(\"Success\"))\n",
        "flat_bndf =  flat_bndf.select (flat_bndf.Success.ltp.alias(\"now\"),\"Success.open\",\"Success.low\",\"Success.high\",flat_bndf.Success.previous_close.alias(\"lastdayclose\")).where(flat_bndf.Success.ltp > 0)  \n",
        "flat_df.show()\n",
        "flat_bndf.show()\n"
      ]
    },
    {
      "cell_type": "code",
      "execution_count": null,
      "metadata": {
        "gather": {
          "logged": 1717046099737
        }
      },
      "outputs": [],
      "source": [
        "import json\n",
        "import pandas as pd \n",
        "import pyspark \n",
        "from pyspark.sql.functions import explode\n",
        "import plotly.graph_objects as go\n",
        "from pyspark.sql.types import StructType, StructField, StringType, LongType, MapType\n",
        "import matplotlib.pyplot as plt\n",
        "from matplotlib.pyplot import subplots, draw\n",
        "from datetime import datetime\n",
        "  \n",
        "# importing sparksession from pyspark.sql module \n",
        "from pyspark.sql import SparkSession \n",
        "spark = SparkSession.builder.appName('sparkdf').getOrCreate() \n",
        "         \n",
        "niftydata =json.dumps (breeze.get_historical_data_v2(interval=\"1day\",\n",
        "                            from_date= \"2024-04-01T09:15:00.000Z\",\n",
        "                            to_date=   \"2024-05-29T13:30:30.000Z\",\n",
        "                            stock_code=\"NIFTY\",\n",
        "                            exchange_code=\"NSE\",\n",
        "                            product_type=\"cash\")\n",
        "                       )\n",
        "sc = spark.sparkContext                       \n",
        "df = spark.read.json(sc.parallelize([niftydata])) \n",
        "flat_df = df.select(\"Error\",\"Status\",explode(\"Success\").alias(\"Success\"))\n",
        "ohlc_df = flat_df.select(\"Success.datetime\",\"Success.open\",\"Success.low\",\"Success.high\",\"Success.close\")\n",
        "ohlc_df.show()\n",
        "row_count = ohlc_df.rdd.count()\n",
        "print(f'The DataFrame has {row_count} rows.')\n"
      ]
    },
    {
      "cell_type": "code",
      "execution_count": null,
      "metadata": {
        "gather": {
          "logged": 1717046106575
        },
        "jupyter": {
          "outputs_hidden": false,
          "source_hidden": false
        },
        "nteract": {
          "transient": {
            "deleting": false
          }
        }
      },
      "outputs": [],
      "source": [
        "import pandas as pd \n",
        "pandasDF = ohlc_df.toPandas()\n",
        "fig = go.Figure(data=[go.Candlestick(x=pandasDF['datetime'],\n",
        "                open=pandasDF['open'],\n",
        "                high=pandasDF['high'],\n",
        "                low=pandasDF['low'],\n",
        "                close=pandasDF['close'])])\n",
        "\n",
        "fig.show()"
      ]
    }
  ],
  "metadata": {
    "kernel_info": {
      "name": "python38-azureml"
    },
    "kernelspec": {
      "display_name": "azureml_py38",
      "language": "python",
      "name": "python3"
    },
    "language_info": {
      "codemirror_mode": {
        "name": "ipython",
        "version": 3
      },
      "file_extension": ".py",
      "mimetype": "text/x-python",
      "name": "python",
      "nbconvert_exporter": "python",
      "pygments_lexer": "ipython3",
      "version": "3.8.5"
    },
    "microsoft": {
      "host": {
        "AzureML": {
          "notebookHasBeenCompleted": true
        }
      },
      "ms_spell_check": {
        "ms_spell_check_language": "en"
      }
    },
    "nteract": {
      "version": "nteract-front-end@1.0.0"
    }
  },
  "nbformat": 4,
  "nbformat_minor": 2
}
