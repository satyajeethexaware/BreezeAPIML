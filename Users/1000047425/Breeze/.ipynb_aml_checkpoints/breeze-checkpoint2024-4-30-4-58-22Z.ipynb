{
  "cells": [
    {
      "cell_type": "code",
      "source": [
        "from breeze_connect import BreezeConnect\n",
        "import json\n",
        "# Initialize SDK\n",
        "breeze = BreezeConnect(api_key=\"05l3(7895X4136976h@Za90m09681999\")\n",
        "\n",
        "# Generate Session\n",
        "breeze.generate_session(api_secret=\"516o05v3500859%I515F02eo#3l27876\",\n",
        "                        session_token=\"41464579\")\n"
      ],
      "outputs": [],
      "execution_count": null,
      "metadata": {
        "gather": {
          "logged": 1714365107271
        }
      }
    },
    {
      "cell_type": "code",
      "source": [
        "import json\n",
        "import pandas as pd \n",
        "import pyspark \n",
        "from pyspark.sql.functions import explode\n",
        "from pyspark.sql import SparkSession \n",
        "\n",
        "\n",
        "niftydata =json.dumps (breeze.get_quotes(stock_code=\"NIFTY\",\n",
        "                                          exchange_code=\"NSE\",\n",
        "                                          expiry_date=\"\",\n",
        "                                          product_type=\"cash\",\n",
        "                                          right=\"others\",\n",
        "                                          strike_price=\"0\"\n",
        "                                        )\n",
        "                       )\n",
        "\n",
        "spark = SparkSession.builder.appName('sparkdf').getOrCreate()                        \n",
        "sc = spark.sparkContext                       \n",
        "df = spark.read.json(sc.parallelize([niftydata])) \n",
        "\n",
        "flat_df = df.select(\"Error\",\"Status\",explode(\"Success\").alias(\"Success\"))\n",
        "flat_df =  flat_df.select (flat_df.Success.ltp.alias(\"now\"),\"Success.open\",\"Success.low\",\"Success.high\",flat_df.Success.previous_close.alias(\"lastdayclose\")).where(flat_df.Success.ltp > 0)  \n",
        "            "
      ],
      "outputs": [],
      "execution_count": null,
      "metadata": {
        "jupyter": {
          "source_hidden": false,
          "outputs_hidden": false
        },
        "nteract": {
          "transient": {
            "deleting": false
          }
        },
        "gather": {
          "logged": 1714365110138
        }
      }
    },
    {
      "cell_type": "code",
      "source": [
        "import json\n",
        "import pandas as pd \n",
        "import pyspark \n",
        "from pyspark.sql.functions import explode\n",
        "from pyspark.sql import SparkSession \n",
        "\n",
        "\n",
        "BankNifty =json.dumps (breeze.get_quotes(stock_code=\"CNXBAN\",\n",
        "                                          exchange_code=\"NSE\",\n",
        "                                          expiry_date=\"\",\n",
        "                                          product_type=\"cash\",\n",
        "                                          right=\"others\",\n",
        "                                          strike_price=\"0\"\n",
        "                                        )\n",
        "                       )\n",
        "\n",
        "spark = SparkSession.builder.appName('sparkdf').getOrCreate()                        \n",
        "sc = spark.sparkContext                       \n",
        "bndf = spark.read.json(sc.parallelize([BankNifty])) \n",
        "\n",
        "flat_bndf = bndf.select(\"Error\",\"Status\",explode(\"Success\").alias(\"Success\"))\n",
        "flat_bndf =  flat_bndf.select (flat_bndf.Success.ltp.alias(\"now\"),\"Success.open\",\"Success.low\",\"Success.high\",flat_bndf.Success.previous_close.alias(\"lastdayclose\")).where(flat_bndf.Success.ltp > 0)  \n",
        "flat_df.show()\n",
        "flat_bndf.show()\n"
      ],
      "outputs": [],
      "execution_count": null,
      "metadata": {
        "jupyter": {
          "source_hidden": false,
          "outputs_hidden": false
        },
        "nteract": {
          "transient": {
            "deleting": false
          }
        },
        "gather": {
          "logged": 1714365113451
        }
      }
    },
    {
      "cell_type": "code",
      "source": [
        "import json\n",
        "import pandas as pd \n",
        "import pyspark \n",
        "from pyspark.sql.functions import explode\n",
        "import plotly.graph_objects as go\n",
        "from pyspark.sql.types import StructType, StructField, StringType, LongType, MapType\n",
        "import matplotlib.pyplot as plt\n",
        "from matplotlib.pyplot import subplots, draw\n",
        "from datetime import datetime\n",
        "  \n",
        "# importing sparksession from pyspark.sql module \n",
        "from pyspark.sql import SparkSession \n",
        "spark = SparkSession.builder.appName('sparkdf').getOrCreate() \n",
        "         \n",
        "niftydata =json.dumps (breeze.get_historical_data_v2(interval=\"1day\",\n",
        "                            from_date= \"2024-04-24T09:15:00.000Z\",\n",
        "                            to_date=   \"2024-05-29T13:30:30.000Z\",\n",
        "                            stock_code=\"NIFTY\",\n",
        "                            exchange_code=\"NSE\",\n",
        "                            product_type=\"cash\")\n",
        "                       )\n",
        "sc = spark.sparkContext                       \n",
        "df = spark.read.json(sc.parallelize([niftydata])) \n",
        "flat_df = df.select(\"Error\",\"Status\",explode(\"Success\").alias(\"Success\"))\n",
        "ohlc_df = flat_df.select(\"Success.datetime\",\"Success.open\",\"Success.low\",\"Success.high\",\"Success.close\")\n",
        "ohlc_df.show()\n",
        "row_count = ohlc_df.rdd.count()\n",
        "print(f'The DataFrame has {row_count} rows.')\n"
      ],
      "outputs": [],
      "execution_count": null,
      "metadata": {
        "gather": {
          "logged": 1714365125251
        }
      }
    },
    {
      "cell_type": "code",
      "source": [
        "import pandas as pd \n",
        "pandasDF = ohlc_df.toPandas()\n",
        "fig = go.Figure(data=[go.Candlestick(x=pandasDF['datetime'],\n",
        "                open=pandasDF['open'],\n",
        "                high=pandasDF['high'],\n",
        "                low=pandasDF['low'],\n",
        "                close=pandasDF['close'])])\n",
        "\n",
        "fig.show()"
      ],
      "outputs": [],
      "execution_count": null,
      "metadata": {
        "jupyter": {
          "source_hidden": false,
          "outputs_hidden": false
        },
        "nteract": {
          "transient": {
            "deleting": false
          }
        },
        "gather": {
          "logged": 1714364846612
        }
      }
    }
  ],
  "metadata": {
    "kernelspec": {
      "name": "python38-azureml",
      "language": "python",
      "display_name": "Python 3.8 - AzureML"
    },
    "language_info": {
      "name": "python",
      "version": "3.8.5",
      "mimetype": "text/x-python",
      "codemirror_mode": {
        "name": "ipython",
        "version": 3
      },
      "pygments_lexer": "ipython3",
      "nbconvert_exporter": "python",
      "file_extension": ".py"
    },
    "microsoft": {
      "ms_spell_check": {
        "ms_spell_check_language": "en"
      },
      "host": {
        "AzureML": {
          "notebookHasBeenCompleted": true
        }
      }
    },
    "kernel_info": {
      "name": "python38-azureml"
    },
    "nteract": {
      "version": "nteract-front-end@1.0.0"
    }
  },
  "nbformat": 4,
  "nbformat_minor": 2
}